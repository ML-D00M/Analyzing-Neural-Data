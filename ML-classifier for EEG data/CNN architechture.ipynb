{
 "cells": [
  {
   "cell_type": "code",
   "execution_count": 1,
   "metadata": {},
   "outputs": [],
   "source": [
    "import tensorflow as tf\n",
    "import numpy as np\n",
    "import matplotlib.pyplot as plt"
   ]
  },
  {
   "cell_type": "code",
   "execution_count": 87,
   "metadata": {},
   "outputs": [
    {
     "data": {
      "text/plain": [
       "((14424, 16, 45), (14424,))"
      ]
     },
     "execution_count": 87,
     "metadata": {},
     "output_type": "execute_result"
    }
   ],
   "source": [
    "#data shape = ((34872, 16, 45)) after preprocessing\n",
    "\n",
    "#  train_EEG   test_EEG  split here\n",
    "#   train_labels test_labels  split here\n",
    "\n",
    "with open('all_epochs.npy', 'rb') as f:\n",
    "    X = np.load(f)\n",
    "    \n",
    "with open('all_labels.npy', 'rb') as f:\n",
    "    y = np.load(f)\n",
    "\n",
    "X.shape, y.shape"
   ]
  },
  {
   "cell_type": "code",
   "execution_count": 88,
   "metadata": {},
   "outputs": [
    {
     "name": "stdout",
     "output_type": "stream",
     "text": [
      "(2404, 16, 45, 1)\n",
      "(5000, 16, 45, 1)\n",
      "(7404, 16, 45, 1) (7404,)\n"
     ]
    }
   ],
   "source": [
    "X = X[:,:,:,None]\n",
    "\n",
    "np.random.shuffle(X)\n",
    "np.random.shuffle(y)\n",
    "\n",
    "X.shape\n",
    "\n",
    "X_true = X[y == 1,:,:,:]\n",
    "print(X_true.shape)\n",
    "\n",
    "y_true = y[y==1]\n",
    "y_false = y[y==0]\n",
    "X_false = X[y== 0 ,:,:,:]\n",
    "y_false = y_false[:5000]\n",
    "X_false = X_false[:5000,:,:,:]\n",
    "\n",
    "X_down = np.concatenate((X_true,X_false), axis = 0)\n",
    "y_down = np.concatenate((y_true,y_false), axis = 0)\n",
    "\n",
    "print(X_false.shape)\n",
    "print(X_down.shape, y_down.shape)"
   ]
  },
  {
   "cell_type": "code",
   "execution_count": 89,
   "metadata": {},
   "outputs": [
    {
     "name": "stdout",
     "output_type": "stream",
     "text": [
      "Model: \"sequential_15\"\n",
      "_________________________________________________________________\n",
      "Layer (type)                 Output Shape              Param #   \n",
      "=================================================================\n",
      "conv2d_45 (Conv2D)           (None, 14, 45, 5)         20        \n",
      "_________________________________________________________________\n",
      "batch_normalization_52 (Batc (None, 14, 45, 5)         20        \n",
      "_________________________________________________________________\n",
      "dropout_52 (Dropout)         (None, 14, 45, 5)         0         \n",
      "_________________________________________________________________\n",
      "max_pooling2d_15 (MaxPooling (None, 14, 22, 5)         0         \n",
      "_________________________________________________________________\n",
      "conv2d_46 (Conv2D)           (None, 12, 22, 10)        160       \n",
      "_________________________________________________________________\n",
      "batch_normalization_53 (Batc (None, 12, 22, 10)        40        \n",
      "_________________________________________________________________\n",
      "dropout_53 (Dropout)         (None, 12, 22, 10)        0         \n",
      "_________________________________________________________________\n",
      "conv2d_47 (Conv2D)           (None, 12, 18, 4)         204       \n",
      "_________________________________________________________________\n",
      "batch_normalization_54 (Batc (None, 12, 18, 4)         16        \n",
      "_________________________________________________________________\n",
      "dropout_54 (Dropout)         (None, 12, 18, 4)         0         \n",
      "_________________________________________________________________\n",
      "flatten_15 (Flatten)         (None, 864)               0         \n",
      "_________________________________________________________________\n",
      "dense_30 (Dense)             (None, 32)                27680     \n",
      "_________________________________________________________________\n",
      "batch_normalization_55 (Batc (None, 32)                128       \n",
      "_________________________________________________________________\n",
      "dropout_55 (Dropout)         (None, 32)                0         \n",
      "_________________________________________________________________\n",
      "dense_31 (Dense)             (None, 2)                 66        \n",
      "=================================================================\n",
      "Total params: 28,334\n",
      "Trainable params: 28,232\n",
      "Non-trainable params: 102\n",
      "_________________________________________________________________\n"
     ]
    }
   ],
   "source": [
    "def build_model(use_batchnorm=False, dropout_rate=0.):\n",
    "\n",
    "  layers = []\n",
    "\n",
    "  layers.append(tf.keras.layers.Conv2D(5 ,(3,1), activation='relu', input_shape=(16, 45, 1)))\n",
    "  if use_batchnorm: layers.append(tf.keras.layers.BatchNormalization())\n",
    "  if dropout_rate > 0: layers.append(tf.keras.layers.Dropout(dropout_rate))\n",
    "  layers.append(tf.keras.layers.MaxPool2D((1,2)))\n",
    "\n",
    "  layers.append(tf.keras.layers.Conv2D(10, (3,1), activation = 'relu'))\n",
    "  if use_batchnorm: layers.append(tf.keras.layers.BatchNormalization())\n",
    "  if dropout_rate > 0: layers.append(tf.keras.layers.Dropout(dropout_rate))\n",
    "\n",
    "  layers.append(tf.keras.layers.Conv2D(4, (1,5), activation = 'relu'))\n",
    "  if use_batchnorm: layers.append(tf.keras.layers.BatchNormalization())\n",
    "  if dropout_rate > 0: layers.append(tf.keras.layers.Dropout(dropout_rate))\n",
    "\n",
    "  layers.append(tf.keras.layers.Flatten())\n",
    "  layers.append(tf.keras.layers.Dense(32, activation = 'relu'))\n",
    "  if use_batchnorm: layers.append(tf.keras.layers.BatchNormalization())\n",
    "  if dropout_rate > 0: layers.append(tf.keras.layers.Dropout(dropout_rate))\n",
    "  layers.append(tf.keras.layers.Dense(2))\n",
    "  \n",
    "\n",
    "  model = tf.keras.Sequential(layers)\n",
    "  model.compile(optimizer='adam',\n",
    "                loss=tf.losses.SparseCategoricalCrossentropy(from_logits=True),\n",
    "                metrics=[tf.metrics.SparseCategoricalAccuracy()])\n",
    "  return model\n",
    "\n",
    "model_CNN = build_model(use_batchnorm=True, dropout_rate=0.04)\n",
    "model_CNN.summary()"
   ]
  },
  {
   "cell_type": "code",
   "execution_count": 98,
   "metadata": {},
   "outputs": [
    {
     "name": "stdout",
     "output_type": "stream",
     "text": [
      "Epoch 1/30\n",
      "451/451 [==============================] - 9s 20ms/step - loss: 0.3173 - sparse_categorical_accuracy: 0.8653\n",
      "Epoch 2/30\n",
      "451/451 [==============================] - 9s 19ms/step - loss: 0.2631 - sparse_categorical_accuracy: 0.8841: 5s - loss: 0. - ETA: 2s -\n",
      "Epoch 3/30\n",
      "451/451 [==============================] - 9s 19ms/step - loss: 0.2446 - sparse_categorical_accuracy: 0.8931\n",
      "Epoch 4/30\n",
      "451/451 [==============================] - 9s 19ms/step - loss: 0.2353 - sparse_categorical_accuracy: 0.8988A: 4s - loss: 0.2214 -  - ETA: 2s - loss: 0.22\n",
      "Epoch 5/30\n",
      "451/451 [==============================] - 9s 19ms/step - loss: 0.2301 - sparse_categorical_accuracy: 0.9022\n",
      "Epoch 6/30\n",
      "451/451 [==============================] - 9s 19ms/step - loss: 0.2202 - sparse_categorical_accuracy: 0.9056\n",
      "Epoch 7/30\n",
      "451/451 [==============================] - 9s 19ms/step - loss: 0.2167 - sparse_categorical_accuracy: 0.9087\n",
      "Epoch 8/30\n",
      "451/451 [==============================] - 9s 19ms/step - loss: 0.2176 - sparse_categorical_accuracy: 0.9093: 0s - loss: 0.2176 - sparse_categorical_accuracy: 0.909\n",
      "Epoch 9/30\n",
      "451/451 [==============================] - 9s 19ms/step - loss: 0.2080 - sparse_categorical_accuracy: 0.9142\n",
      "Epoch 10/30\n",
      "451/451 [==============================] - 9s 19ms/step - loss: 0.2043 - sparse_categorical_accuracy: 0.9182\n",
      "Epoch 11/30\n",
      "451/451 [==============================] - 9s 19ms/step - loss: 0.1959 - sparse_categorical_accuracy: 0.9181\n",
      "Epoch 12/30\n",
      "451/451 [==============================] - 9s 19ms/step - loss: 0.1920 - sparse_categorical_accuracy: 0.9217\n",
      "Epoch 13/30\n",
      "451/451 [==============================] - 9s 19ms/step - loss: 0.1881 - sparse_categorical_accuracy: 0.9230: 2s - lo\n",
      "Epoch 14/30\n",
      "451/451 [==============================] - 9s 19ms/step - loss: 0.1826 - sparse_categorical_accuracy: 0.9236: 0s - loss: 0.1794 - sparse_categorical_accu\n",
      "Epoch 15/30\n",
      "451/451 [==============================] - 9s 19ms/step - loss: 0.1793 - sparse_categorical_accuracy: 0.9254:  - ETA: 2s \n",
      "Epoch 16/30\n",
      "451/451 [==============================] - 9s 19ms/step - loss: 0.1717 - sparse_categorical_accuracy: 0.9295: 0s - loss: 0.1701 - sparse_categorical_ac\n",
      "Epoch 17/30\n",
      "451/451 [==============================] - 9s 19ms/step - loss: 0.1767 - sparse_categorical_accuracy: 0.9277: 0s - loss: 0.1771 - sparse_categorical_accura\n",
      "Epoch 18/30\n",
      "451/451 [==============================] - 9s 19ms/step - loss: 0.1672 - sparse_categorical_accuracy: 0.9330\n",
      "Epoch 19/30\n",
      "451/451 [==============================] - ETA: 0s - loss: 0.1769 - sparse_categorical_accuracy: 0.928 - 9s 19ms/step - loss: 0.1767 - sparse_categorical_accuracy: 0.9285\n",
      "Epoch 20/30\n",
      "451/451 [==============================] - 9s 19ms/step - loss: 0.1687 - sparse_categorical_accuracy: 0.9316\n",
      "Epoch 21/30\n",
      "451/451 [==============================] - 9s 19ms/step - loss: 0.1625 - sparse_categorical_accuracy: 0.9324: 4s - lo - ETA: 1s - loss: 0.1583 - sparse_categori - ETA: 0s - loss: 0.1612 - sparse_categorical_accu\n",
      "Epoch 22/30\n",
      "451/451 [==============================] - 9s 19ms/step - loss: 0.1550 - sparse_categorical_accuracy: 0.9373: 2s - \n",
      "Epoch 23/30\n",
      "451/451 [==============================] - 9s 19ms/step - loss: 0.1569 - sparse_categorical_accuracy: 0.9390\n",
      "Epoch 24/30\n",
      "451/451 [==============================] - 9s 19ms/step - loss: 0.1573 - sparse_categorical_accuracy: 0.9383\n",
      "Epoch 25/30\n",
      "451/451 [==============================] - 9s 19ms/step - loss: 0.1554 - sparse_categorical_accuracy: 0.9395: 2s - loss: 0.1503 - sparse_catego - ETA: 1s - loss: 0.1517 - sparse_categorical_accuracy: 0. - ETA: 0s - loss: 0.1519 - sparse_categorical\n",
      "Epoch 26/30\n",
      "451/451 [==============================] - 9s 19ms/step - loss: 0.1504 - sparse_categorical_accuracy: 0.9391: 1s - loss: 0.1490 - spa\n",
      "Epoch 27/30\n",
      "451/451 [==============================] - 9s 19ms/step - loss: 0.1559 - sparse_categorical_accuracy: 0.9377\n",
      "Epoch 28/30\n",
      "451/451 [==============================] - 9s 19ms/step - loss: 0.1518 - sparse_categorical_accuracy: 0.9409: 6s -\n",
      "Epoch 29/30\n",
      "451/451 [==============================] - 9s 19ms/step - loss: 0.1494 - sparse_categorical_accuracy: 0.9401: 0s - loss: 0.1499 - sparse_categorical_accuracy: \n",
      "Epoch 30/30\n",
      "451/451 [==============================] - 9s 19ms/step - loss: 0.1514 - sparse_categorical_accuracy: 0.9411\n",
      "451/451 - 2s - loss: 0.0388 - sparse_categorical_accuracy: 0.9947\n",
      "\n",
      "Test accuracy: 0.9947310090065002\n"
     ]
    }
   ],
   "source": [
    "model_CNN.fit(X, y, epochs=30)\n",
    "\n",
    "test_loss, test_acc = model_CNN.evaluate(X,  y, verbose=2)\n",
    "\n",
    "print('\\nTest accuracy:', test_acc)"
   ]
  },
  {
   "cell_type": "code",
   "execution_count": 99,
   "metadata": {},
   "outputs": [
    {
     "data": {
      "image/png": "[encoded data removed]",
      "text/plain": [
       "<Figure size 360x360 with 2 Axes>"
      ]
     },
     "metadata": {
      "needs_background": "light"
     },
     "output_type": "display_data"
    },
    {
     "name": "stdout",
     "output_type": "stream",
     "text": [
      "tf.Tensor(\n",
      "[[11990    30]\n",
      " [   46  2358]], shape=(2, 2), dtype=int32)\n"
     ]
    }
   ],
   "source": [
    "y_pred = np.argmax(model_CNN.predict(X), axis=1)\n",
    "y_true = y\n",
    "\n",
    "\n",
    "\n",
    "confusion_mtx = tf.math.confusion_matrix(y_true, y_pred) \n",
    "plt.figure(figsize=(5, 5))\n",
    "\n",
    "plt.imshow(confusion_mtx)\n",
    "\n",
    "\n",
    "plt.xlabel('Prediction')\n",
    "plt.ylabel('Label')\n",
    "plt.colorbar()\n",
    "plt.show()\n",
    "\n",
    "print(confusion_mtx)"
   ]
  },
  {
   "cell_type": "code",
   "execution_count": 100,
   "metadata": {},
   "outputs": [
    {
     "name": "stdout",
     "output_type": "stream",
     "text": [
      "f1 score:  0.9841402337228715\n",
      "roc_auc score:  0.9891846921797005\n"
     ]
    }
   ],
   "source": [
    "from sklearn.metrics import roc_auc_score\n",
    "from sklearn.metrics import f1_score\n",
    "\n",
    "print('f1 score: ', f1_score(y_true, y_pred))\n",
    "print('roc_auc score: ', roc_auc_score(y_true, y_pred))"
   ]
  },
  {
   "cell_type": "code",
   "execution_count": null,
   "metadata": {},
   "outputs": [],
   "source": []
  }
 ],
 "metadata": {
  "kernelspec": {
   "display_name": "Python 3",
   "language": "python",
   "name": "python3"
  },
  "language_info": {
   "codemirror_mode": {
    "name": "ipython",
    "version": 3
   },
   "file_extension": ".py",
   "mimetype": "text/x-python",
   "name": "python",
   "nbconvert_exporter": "python",
   "pygments_lexer": "ipython3",
   "version": "3.8.5"
  }
 },
 "nbformat": 4,
 "nbformat_minor": 4
}
