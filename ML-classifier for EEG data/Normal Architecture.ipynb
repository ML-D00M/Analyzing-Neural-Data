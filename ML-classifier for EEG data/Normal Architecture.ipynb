{
 "cells": [
  {
   "cell_type": "code",
   "execution_count": 1,
   "metadata": {},
   "outputs": [
    {
     "name": "stdout",
     "output_type": "stream",
     "text": [
      "2.3.1\n"
     ]
    }
   ],
   "source": [
    "# TensorFlow and tf.keras\n",
    "import tensorflow as tf\n",
    "\n",
    "# Helper libraries\n",
    "import numpy as np\n",
    "import matplotlib.pyplot as plt\n",
    "\n",
    "print(tf.__version__)"
   ]
  },
  {
   "cell_type": "code",
   "execution_count": 2,
   "metadata": {},
   "outputs": [
    {
     "name": "stdout",
     "output_type": "stream",
     "text": [
      "(2404, 16, 45, 1)\n",
      "(5000, 16, 45, 1)\n",
      "(7404, 16, 45, 1) (7404,)\n"
     ]
    }
   ],
   "source": [
    "with open('all_epochs.npy', 'rb') as f:\n",
    "    X = np.load(f)\n",
    "    \n",
    "with open('all_labels.npy', 'rb') as f:\n",
    "    y = np.load(f)\n",
    "\n",
    "X.shape, y.shape\n",
    "\n",
    "X = X[:,:,:,None]\n",
    "\n",
    "np.random.shuffle(X)\n",
    "np.random.shuffle(y)\n",
    "\n",
    "X.shape\n",
    "\n",
    "X_true = X[y == 1,:,:,:]\n",
    "print(X_true.shape)\n",
    "\n",
    "y_true = y[y==1]\n",
    "y_false = y[y==0]\n",
    "X_false = X[y== 0 ,:,:,:]\n",
    "y_false = y_false[:5000]\n",
    "X_false = X_false[:5000,:,:,:]\n",
    "\n",
    "X_down = np.concatenate((X_true,X_false), axis = 0)\n",
    "y_down = np.concatenate((y_true,y_false), axis = 0)\n",
    "\n",
    "print(X_false.shape)\n",
    "print(X_down.shape, y_down.shape)"
   ]
  },
  {
   "cell_type": "code",
   "execution_count": 3,
   "metadata": {},
   "outputs": [],
   "source": [
    "def build_model(use_batchnorm=False, dropout_rate=0.):\n",
    "  layers = []\n",
    "\n",
    "  layers.append(tf.keras.layers.Flatten(input_shape=(16, 45, 1)))\n",
    "  if use_batchnorm: layers.append(tf.keras.layers.BatchNormalization())\n",
    "  if dropout_rate > 0: layers.append(tf.keras.layers.Dropout(dropout_rate))\n",
    "\n",
    "\n",
    "  layers.append(tf.keras.layers.Dense(128, activation = 'relu'))\n",
    "  if use_batchnorm: layers.append(tf.keras.layers.BatchNormalization())\n",
    "  if dropout_rate > 0: layers.append(tf.keras.layers.Dropout(dropout_rate))\n",
    "\n",
    "  layers.append(tf.keras.layers.Dense(128, activation = 'relu'))\n",
    "  if use_batchnorm: layers.append(tf.keras.layers.BatchNormalization())\n",
    "  if dropout_rate > 0: layers.append(tf.keras.layers.Dropout(dropout_rate))\n",
    "\n",
    "  layers.append(tf.keras.layers.Dense(2))\n",
    "  \n",
    "\n",
    "  model = tf.keras.Sequential(layers)\n",
    "  model.compile(optimizer='adam',\n",
    "                loss=tf.losses.SparseCategoricalCrossentropy(from_logits=True),\n",
    "                metrics=[tf.metrics.SparseCategoricalAccuracy()])\n",
    "  return model"
   ]
  },
  {
   "cell_type": "code",
   "execution_count": 7,
   "metadata": {},
   "outputs": [
    {
     "name": "stdout",
     "output_type": "stream",
     "text": [
      "Model: \"sequential_1\"\n",
      "_________________________________________________________________\n",
      "Layer (type)                 Output Shape              Param #   \n",
      "=================================================================\n",
      "flatten_1 (Flatten)          (None, 720)               0         \n",
      "_________________________________________________________________\n",
      "batch_normalization_3 (Batch (None, 720)               2880      \n",
      "_________________________________________________________________\n",
      "dropout_3 (Dropout)          (None, 720)               0         \n",
      "_________________________________________________________________\n",
      "dense_3 (Dense)              (None, 128)               92288     \n",
      "_________________________________________________________________\n",
      "batch_normalization_4 (Batch (None, 128)               512       \n",
      "_________________________________________________________________\n",
      "dropout_4 (Dropout)          (None, 128)               0         \n",
      "_________________________________________________________________\n",
      "dense_4 (Dense)              (None, 128)               16512     \n",
      "_________________________________________________________________\n",
      "batch_normalization_5 (Batch (None, 128)               512       \n",
      "_________________________________________________________________\n",
      "dropout_5 (Dropout)          (None, 128)               0         \n",
      "_________________________________________________________________\n",
      "dense_5 (Dense)              (None, 2)                 258       \n",
      "=================================================================\n",
      "Total params: 112,962\n",
      "Trainable params: 111,010\n",
      "Non-trainable params: 1,952\n",
      "_________________________________________________________________\n"
     ]
    }
   ],
   "source": [
    "model_nor = build_model(True, 0.4)\n",
    "model_nor.summary()"
   ]
  },
  {
   "cell_type": "code",
   "execution_count": 17,
   "metadata": {},
   "outputs": [
    {
     "name": "stdout",
     "output_type": "stream",
     "text": [
      "Epoch 1/40\n",
      "232/232 [==============================] - 1s 3ms/step - loss: 0.5004 - sparse_categorical_accuracy: 0.7569\n",
      "Epoch 2/40\n",
      "232/232 [==============================] - 1s 3ms/step - loss: 0.4967 - sparse_categorical_accuracy: 0.7597\n",
      "Epoch 3/40\n",
      "232/232 [==============================] - 1s 3ms/step - loss: 0.4990 - sparse_categorical_accuracy: 0.7576\n",
      "Epoch 4/40\n",
      "232/232 [==============================] - 1s 3ms/step - loss: 0.4984 - sparse_categorical_accuracy: 0.7589\n",
      "Epoch 5/40\n",
      "232/232 [==============================] - 1s 3ms/step - loss: 0.4996 - sparse_categorical_accuracy: 0.7538\n",
      "Epoch 6/40\n",
      "232/232 [==============================] - 1s 3ms/step - loss: 0.4959 - sparse_categorical_accuracy: 0.7577\n",
      "Epoch 7/40\n",
      "232/232 [==============================] - 1s 3ms/step - loss: 0.4996 - sparse_categorical_accuracy: 0.7545\n",
      "Epoch 8/40\n",
      "232/232 [==============================] - 1s 3ms/step - loss: 0.4980 - sparse_categorical_accuracy: 0.7612\n",
      "Epoch 9/40\n",
      "232/232 [==============================] - 1s 3ms/step - loss: 0.4909 - sparse_categorical_accuracy: 0.7645\n",
      "Epoch 10/40\n",
      "232/232 [==============================] - 1s 3ms/step - loss: 0.5025 - sparse_categorical_accuracy: 0.7507\n",
      "Epoch 11/40\n",
      "232/232 [==============================] - 1s 3ms/step - loss: 0.4933 - sparse_categorical_accuracy: 0.7639\n",
      "Epoch 12/40\n",
      "232/232 [==============================] - 1s 3ms/step - loss: 0.4940 - sparse_categorical_accuracy: 0.7604\n",
      "Epoch 13/40\n",
      "232/232 [==============================] - 1s 3ms/step - loss: 0.4895 - sparse_categorical_accuracy: 0.7630\n",
      "Epoch 14/40\n",
      "232/232 [==============================] - 1s 3ms/step - loss: 0.4947 - sparse_categorical_accuracy: 0.7599\n",
      "Epoch 15/40\n",
      "232/232 [==============================] - 1s 3ms/step - loss: 0.4828 - sparse_categorical_accuracy: 0.7647\n",
      "Epoch 16/40\n",
      "232/232 [==============================] - 1s 3ms/step - loss: 0.4847 - sparse_categorical_accuracy: 0.7653\n",
      "Epoch 17/40\n",
      "232/232 [==============================] - 1s 3ms/step - loss: 0.4894 - sparse_categorical_accuracy: 0.7570\n",
      "Epoch 18/40\n",
      "232/232 [==============================] - 1s 3ms/step - loss: 0.4895 - sparse_categorical_accuracy: 0.7684\n",
      "Epoch 19/40\n",
      "232/232 [==============================] - 1s 3ms/step - loss: 0.4971 - sparse_categorical_accuracy: 0.7634\n",
      "Epoch 20/40\n",
      "232/232 [==============================] - 1s 3ms/step - loss: 0.4883 - sparse_categorical_accuracy: 0.7646\n",
      "Epoch 21/40\n",
      "232/232 [==============================] - 1s 3ms/step - loss: 0.4943 - sparse_categorical_accuracy: 0.7601\n",
      "Epoch 22/40\n",
      "232/232 [==============================] - 1s 3ms/step - loss: 0.4896 - sparse_categorical_accuracy: 0.7609\n",
      "Epoch 23/40\n",
      "232/232 [==============================] - 1s 3ms/step - loss: 0.4855 - sparse_categorical_accuracy: 0.7711\n",
      "Epoch 24/40\n",
      "232/232 [==============================] - 1s 3ms/step - loss: 0.4790 - sparse_categorical_accuracy: 0.7732\n",
      "Epoch 25/40\n",
      "232/232 [==============================] - 1s 3ms/step - loss: 0.4805 - sparse_categorical_accuracy: 0.7705\n",
      "Epoch 26/40\n",
      "232/232 [==============================] - 1s 3ms/step - loss: 0.4823 - sparse_categorical_accuracy: 0.7703\n",
      "Epoch 27/40\n",
      "232/232 [==============================] - 1s 3ms/step - loss: 0.4878 - sparse_categorical_accuracy: 0.7619A: 0s - loss: 0.4869 - sparse_categorical_accuracy: 0.7\n",
      "Epoch 28/40\n",
      "232/232 [==============================] - 1s 3ms/step - loss: 0.4695 - sparse_categorical_accuracy: 0.7731\n",
      "Epoch 29/40\n",
      "232/232 [==============================] - 1s 3ms/step - loss: 0.4766 - sparse_categorical_accuracy: 0.7765\n",
      "Epoch 30/40\n",
      "232/232 [==============================] - 1s 3ms/step - loss: 0.4744 - sparse_categorical_accuracy: 0.7711\n",
      "Epoch 31/40\n",
      "232/232 [==============================] - 1s 3ms/step - loss: 0.4717 - sparse_categorical_accuracy: 0.7750\n",
      "Epoch 32/40\n",
      "232/232 [==============================] - 1s 3ms/step - loss: 0.4846 - sparse_categorical_accuracy: 0.7720\n",
      "Epoch 33/40\n",
      "232/232 [==============================] - 1s 3ms/step - loss: 0.4870 - sparse_categorical_accuracy: 0.7634\n",
      "Epoch 34/40\n",
      "232/232 [==============================] - 1s 3ms/step - loss: 0.4780 - sparse_categorical_accuracy: 0.7663\n",
      "Epoch 35/40\n",
      "232/232 [==============================] - 1s 3ms/step - loss: 0.4807 - sparse_categorical_accuracy: 0.7715\n",
      "Epoch 36/40\n",
      "232/232 [==============================] - 1s 3ms/step - loss: 0.4803 - sparse_categorical_accuracy: 0.7673\n",
      "Epoch 37/40\n",
      "232/232 [==============================] - 1s 3ms/step - loss: 0.4846 - sparse_categorical_accuracy: 0.7704\n",
      "Epoch 38/40\n",
      "232/232 [==============================] - 1s 3ms/step - loss: 0.4711 - sparse_categorical_accuracy: 0.7732\n",
      "Epoch 39/40\n",
      "232/232 [==============================] - 1s 3ms/step - loss: 0.4798 - sparse_categorical_accuracy: 0.7742\n",
      "Epoch 40/40\n",
      "232/232 [==============================] - 1s 3ms/step - loss: 0.4800 - sparse_categorical_accuracy: 0.7676\n",
      "451/451 - 0s - loss: 0.3217 - sparse_categorical_accuracy: 0.9008\n",
      "\n",
      "Test accuracy: 0.9007903337478638\n"
     ]
    }
   ],
   "source": [
    "model_nor.fit(X_down, y_down, epochs=40)\n",
    "\n",
    "test_loss, test_acc = model_nor.evaluate(X,  y, verbose=2)\n",
    "\n",
    "print('\\nTest accuracy:', test_acc)"
   ]
  },
  {
   "cell_type": "code",
   "execution_count": 18,
   "metadata": {},
   "outputs": [
    {
     "data": {
      "image/png": "[encoded data removed]",
      "text/plain": [
       "<Figure size 360x360 with 2 Axes>"
      ]
     },
     "metadata": {
      "needs_background": "light"
     },
     "output_type": "display_data"
    },
    {
     "name": "stdout",
     "output_type": "stream",
     "text": [
      "tf.Tensor(\n",
      "[[11354   666]\n",
      " [  765  1639]], shape=(2, 2), dtype=int32)\n"
     ]
    }
   ],
   "source": [
    "y_pred = np.argmax(model_nor.predict(X), axis=1)\n",
    "y_true = y\n",
    "\n",
    "\n",
    "\n",
    "confusion_mtx = tf.math.confusion_matrix(y_true, y_pred) \n",
    "plt.figure(figsize=(5, 5))\n",
    "\n",
    "plt.imshow(confusion_mtx)\n",
    "\n",
    "\n",
    "plt.xlabel('Prediction')\n",
    "plt.ylabel('Label')\n",
    "plt.colorbar()\n",
    "plt.show()\n",
    "\n",
    "print(confusion_mtx)"
   ]
  },
  {
   "cell_type": "code",
   "execution_count": 19,
   "metadata": {},
   "outputs": [
    {
     "name": "stdout",
     "output_type": "stream",
     "text": [
      "f1 score:  0.6961138245912083\n",
      "roc_auc score:  0.8131863560732113\n"
     ]
    }
   ],
   "source": [
    "from sklearn.metrics import roc_auc_score\n",
    "from sklearn.metrics import f1_score\n",
    "\n",
    "print('f1 score: ', f1_score(y_true, y_pred))\n",
    "print('roc_auc score: ', roc_auc_score(y_true, y_pred))"
   ]
  },
  {
   "cell_type": "code",
   "execution_count": null,
   "metadata": {},
   "outputs": [],
   "source": []
  }
 ],
 "metadata": {
  "kernelspec": {
   "display_name": "Python 3",
   "language": "python",
   "name": "python3"
  },
  "language_info": {
   "codemirror_mode": {
    "name": "ipython",
    "version": 3
   },
   "file_extension": ".py",
   "mimetype": "text/x-python",
   "name": "python",
   "nbconvert_exporter": "python",
   "pygments_lexer": "ipython3",
   "version": "3.8.5"
  }
 },
 "nbformat": 4,
 "nbformat_minor": 4
}
